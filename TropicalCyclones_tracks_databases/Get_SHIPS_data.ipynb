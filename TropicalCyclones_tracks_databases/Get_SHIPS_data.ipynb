{
 "cells": [
  {
   "cell_type": "markdown",
   "id": "18883fb4-bb5e-45f3-843c-2fc2c565aab5",
   "metadata": {},
   "source": [
    "# Access the SHIPS database, read SST and shear for a storm\n",
    "\n",
    "### [SHIPS development site](https://rammb.cira.colostate.edu/research/tropical_cyclones/ships/index.asp)\n",
    "\n",
    "See SHIPS example file at bottom for other available info "
   ]
  },
  {
   "cell_type": "code",
   "execution_count": 11,
   "id": "da9639fc-e9fd-4deb-a328-5ec69533967b",
   "metadata": {},
   "outputs": [],
   "source": [
    "%run ships_parse.py   # in local directory "
   ]
  },
  {
   "cell_type": "code",
   "execution_count": 10,
   "id": "900a9a6d-3a1a-4980-86f8-134b3e1a870e",
   "metadata": {},
   "outputs": [
    {
     "data": {
      "text/plain": [
       "\u001b[0;31mSignature:\u001b[0m \u001b[0mfetch_file\u001b[0m\u001b[0;34m(\u001b[0m\u001b[0mdatetime\u001b[0m\u001b[0;34m,\u001b[0m \u001b[0mstorm_name\u001b[0m\u001b[0;34m,\u001b[0m \u001b[0mbasin\u001b[0m\u001b[0;34m=\u001b[0m\u001b[0;34m'AL'\u001b[0m\u001b[0;34m,\u001b[0m \u001b[0mwrite\u001b[0m\u001b[0;34m=\u001b[0m\u001b[0;32mFalse\u001b[0m\u001b[0;34m)\u001b[0m\u001b[0;34m\u001b[0m\u001b[0;34m\u001b[0m\u001b[0m\n",
       "\u001b[0;31mDocstring:\u001b[0m\n",
       "Locates and parses a SHIPS file for the given datetime & storm\n",
       "\n",
       "Parameters\n",
       "----------\n",
       "datetime : str\n",
       "    Date & time of the desired SHIPS data. Format: YYYYMoMoDDHHMM\n",
       "storm_name : str\n",
       "    Name of the storm the desired SHIPS file is related to\n",
       "basin : str\n",
       "    Basin in which the storm is located. AL = Atlantic, EP = Eastern Pacific\n",
       "write : bool\n",
       "    If true, writes the dataframe to a csv. Default: False\n",
       "\n",
       "\n",
       "Returns\n",
       "-------\n",
       "data_dict : dictionary of type key : str, value : str\n",
       "    Dictionary containing relevant SHIPS data. Keys: datetime, shear_spd,\n",
       "    shear_dir, sst\n",
       "\u001b[0;31mFile:\u001b[0m      ~/Github/UndergradResearchTools/TropicalCyclones_tracks_databases/ships_parse.py\n",
       "\u001b[0;31mType:\u001b[0m      function\n"
      ]
     },
     "metadata": {},
     "output_type": "display_data"
    }
   ],
   "source": [
    "fetch_file?"
   ]
  },
  {
   "cell_type": "markdown",
   "id": "3cd24440-5d35-4684-a79d-8df1401006f7",
   "metadata": {},
   "source": [
    "# Key line in above: \n",
    "### *relevant SHIPS data. Keys: datetime, shear_spd, shear_dir, sst*"
   ]
  },
  {
   "cell_type": "code",
   "execution_count": null,
   "id": "a61c2e90-6698-41c3-9f0f-b230281eb608",
   "metadata": {},
   "outputs": [],
   "source": [
    "shear_and_sst = fetch_file()"
   ]
  },
  {
   "cell_type": "markdown",
   "id": "1ef936d5-54a4-40b6-9799-ba813bc929c1",
   "metadata": {},
   "source": [
    "# What is a SHIPS file? Example: "
   ]
  },
  {
   "cell_type": "raw",
   "id": "31574bbb-c568-4d93-b897-7aa61af212dd",
   "metadata": {},
   "source": [
    "                    * ATLANTIC     2019 SHIPS INTENSITY FORECAST     *\n",
    "                    * IR SAT DATA AVAILABLE,       OHC AVAILABLE     *\n",
    "                    *  BARRY       AL022019  07/16/19  06 UTC        *\n",
    "\n",
    "TIME (HR)          0     6    12    18    24    36    48    60    72    84    96   108   120\n",
    "V (KT) NO LAND    15   DIS   DIS   DIS   DIS   DIS   DIS   DIS   DIS   DIS   DIS   DIS   DIS\n",
    "V (KT) LAND        0   DIS   DIS   DIS   DIS   DIS   DIS   DIS   DIS   DIS   DIS   DIS   DIS\n",
    "V (KT) LGEM       15    22    26    28    29    29    30    30   DIS   DIS   DIS   DIS   DIS\n",
    "Storm Type      TROP  TROP  TROP  TROP  TROP  TROP  TROP  TROP   N/A   N/A   N/A   N/A   N/A\n",
    "\n",
    "SHEAR (KT)         5     4     7    10    19    13    23    21   N/A   N/A   N/A   N/A   N/A\n",
    "SHEAR ADJ (KT)     0     3     1     3     1     0    -1     1   N/A   N/A   N/A   N/A   N/A\n",
    "SHEAR DIR          4   321   324   274   291   318   303   331   N/A   N/A   N/A   N/A   N/A\n",
    "SST (C)         28.8  28.8  28.8  29.8  30.1  28.7  28.3  27.3   N/A   N/A   N/A   N/A   N/A\n",
    "POT. INT. (KT)   148   149   149   166   172   148   142   128   N/A   N/A   N/A   N/A   N/A\n",
    "ADJ. POT. INT.   121   122   121   134   139   122   116   104   N/A   N/A   N/A   N/A   N/A\n",
    "200 MB T (C)   -51.8 -51.9 -52.0 -52.0 -52.1 -53.0 -52.9 -52.9   N/A   N/A   N/A   N/A   N/A\n",
    "200 MB VXT (C)   0.9   0.8   0.5   0.4   0.7   0.3   0.2   0.3   N/A   N/A   N/A   N/A   N/A\n",
    "TH_E DEV (C)       6     4    12    14     5    10     2     8   N/A   N/A   N/A   N/A   N/A\n",
    "700-500 MB RH     56    60    60    61    59    58    54    53   N/A   N/A   N/A   N/A   N/A\n",
    "MODEL VTX (KT)    11    10     9     9     8     6     7     5  LOST  LOST  LOST  LOST  LOST\n",
    "850 MB ENV VOR   -66   -44   -31   -60   -66   -31   -41   -12   N/A   N/A   N/A   N/A   N/A\n",
    "200 MB DIV        18    -1    11    12    25    -5    -8    18   N/A   N/A   N/A   N/A   N/A\n",
    "700-850 TADV      11    25    30    34    27    25    23    47   N/A   N/A   N/A   N/A   N/A\n",
    "LAND (KM)       -820  -864  -923  -949  -989  -859  -540  -401   N/A   N/A   N/A   N/A   N/A\n",
    "LAT (DEG N)     37.4  38.1  38.7  39.2  39.6  40.1  40.4  41.4   N/A   N/A   N/A   N/A   N/A\n",
    "LONG(DEG W)     92.9  91.8  90.7  89.5  88.3  85.3  81.4  78.8   N/A   N/A   N/A   N/A   N/A\n",
    "STM SPEED (KT)    10    11    11    10    11    14    13    11   N/A   N/A   N/A   N/A   N/A\n",
    "HEAT CONTENT       3     3     3     5     5     3     3     2   N/A   N/A   N/A   N/A   N/A\n",
    "\n",
    "  FORECAST TRACK FROM OFCI      INITIAL HEADING/SPEED (DEG/KT): 10/  9      CX,CY:   2/  9\n",
    "  T-12 MAX WIND:  20            PRESSURE OF STEERING LEVEL (MB):  772  (MEAN=620)\n",
    "  GOES IR BRIGHTNESS TEMP. STD DEV.  50-200 KM RAD:  10.2 (MEAN=14.5)\n",
    "  % GOES IR PIXELS WITH T < -20 C    50-200 KM RAD:   4.0 (MEAN=65.0)\n",
    "  PRELIM RI PROB (DV .GE. 35 KT IN 36 HR):            0.7\n",
    "\n",
    "                        INDIVIDUAL CONTRIBUTIONS TO INTENSITY CHANGE\n",
    "                         6   12   18   24   36   48   60   72   84   96  108  120\n",
    "                        ----------------------------------------------------------\n",
    "  SAMPLE MEAN CHANGE     1.   2.   3.   4.   6.   8.   9.  10.  11.  11.  12.  12.\n",
    "  SST POTENTIAL          0.  -0.  -1.  -0.   2.   9.  17.  23.  28.  32.  35.  37.\n",
    "  VERTICAL SHEAR MAG     1.   3.   5.   8.  10.  10.   7.   4.   1.  -3.  -5.  -8.\n",
    "  VERTICAL SHEAR ADJ    -0.  -0.  -0.  -0.   0.   0.   0.   1.   1.   1.   1.   0.\n",
    "  VERTICAL SHEAR DIR    -0.  -0.   0.   0.   1.   1.   1.   2.   2.   2.   2.   3.\n",
    "  PERSISTENCE           -0.  -1.  -1.  -1.  -0.  -0.  -0.  -0.  -0.   0.   0.   0.\n",
    "  200/250 MB TEMP.      -0.  -1.  -1.  -1.  -2.  -2.  -2.  -2.  -2.  -3.  -3.  -3.\n",
    "  THETA_E EXCESS        -0.  -0.   0.  -0.  -0.  -1.  -1.  -1.  -1.  -1.  -1.  -1.\n",
    "  700-500 MB RH         -0.  -0.  -0.  -0.  -1.  -1.  -1.  -1.  -1.  -2.  -2.  -1.\n",
    "  MODEL VTX TENDENCY    -0.  -1.  -1.  -2.  -5.  -5.  -9. -11. -12. -13. -14. -14.\n",
    "  850 MB ENV VORTICITY  -0.  -1.  -1.  -1.  -2.  -3.  -3.  -4.  -4.  -4.  -5.  -5.\n",
    "  200 MB DIVERGENCE     -0.  -0.  -0.  -0.  -1.  -1.  -1.  -1.  -1.  -0.   0.   1.\n",
    "  850-700 T ADVEC       -0.   0.   0.   1.   2.   3.   3.   3.   3.   2.   2.   1.\n",
    "  ZONAL STORM MOTION     0.   0.  -0.  -0.  -0.  -1.  -1.  -1.  -2.  -3.  -3.  -4.\n",
    "  STEERING LEVEL PRES   -0.  -0.  -1.  -1.  -1.  -1.  -1.  -2.  -2.  -3.  -3.  -3.\n",
    "  DAYS FROM CLIM. PEAK  -0.   0.   0.   0.   0.  -0.  -0.   0.   0.   1.   1.   1.\n",
    "  GOES PREDICTORS       -1.  -1.  -1.  -2.  -2.  -4.  -6.  -7.  -8.  -8.  -7.  -8.\n",
    "  OCEAN HEAT CONTENT     0.   0.   0.   0.   0.   0.  -0.  -0.  -0.  -0.  -0.  -0.\n",
    "  RI POTENTIAL          -0.  -1.  -2.  -2.  -4.  -4.  -3.  -2.  -0.   1.   2.   3.\n",
    "                        ----------------------------------------------------------\n",
    "  TOTAL CHANGE          -1.  -1.   1.   1.   3.   9.  10.  12.  12.  12.  11.  11.\n",
    "\n",
    "                CURRENT MAX WIND (KT):   15. LAT, LON:   37.4    92.9\n",
    "\n",
    "      ** 2019 ATLANTIC RI INDEX AL022019 BARRY      07/16/19  06 UTC **\n",
    " (SHIPS-RII PREDICTOR TABLE for 30 KT OR MORE MAXIMUM WIND INCREASE IN NEXT 24-h)\n",
    " \n",
    "     Predictor                  Value   RI Predictor Range  Scaled Value(0-1) % Contribution\n",
    " 12 HR PERSISTENCE (KT)      :    0.0    -49.5  to   33.0        0.60         999.0\n",
    " 850-200 MB SHEAR (KT)       :    8.9     30.1  to    2.3        0.76         999.0\n",
    " HEAT CONTENT (KJ/CM2)       :    3.8      0.0  to  151.8        0.03         999.0\n",
    " STD DEV OF IR BR TEMP       :   10.2     36.6  to    2.8        0.78         999.0\n",
    " MAXIMUM WIND (KT)           :   15.0     22.5  to  137.5        0.00           0.0\n",
    " 2nd PC OF IR BR TEMP        :    0.5      2.9  to   -2.9        0.41         999.0\n",
    " POT = MPI-VMAX (KT)         :  112.4     27.5  to  139.6        0.76         999.0\n",
    " D200 (10**7s-1)             :   13.0    -29.7  to  185.9        0.20         999.0\n",
    " %area of TPW <45 mm upshear :   36.0    100.0  to    0.0        0.64         999.0\n",
    " BL DRY-AIR FLUX (W/M2)      :   84.4    895.4  to  -55.0        0.85         999.0\n",
    " \n",
    " SHIPS Prob RI for 20kt/ 12hr RI threshold=   0% is   0.0 times climatological mean ( 5.2%)\n",
    " SHIPS Prob RI for 25kt/ 24hr RI threshold=   0% is   0.0 times climatological mean (10.9%)\n",
    " SHIPS Prob RI for 30kt/ 24hr RI threshold=   0% is   0.0 times climatological mean ( 6.9%)\n",
    " SHIPS Prob RI for 35kt/ 24hr RI threshold=   0% is   0.0 times climatological mean ( 3.8%)\n",
    " SHIPS Prob RI for 40kt/ 24hr RI threshold=   0% is   0.0 times climatological mean ( 2.4%)\n",
    " SHIPS Prob RI for 45kt/ 36hr RI threshold=   0% is   0.0 times climatological mean ( 4.5%)\n",
    " SHIPS Prob RI for 55kt/ 48hr RI threshold=   0% is   0.0 times climatological mean ( 4.6%)\n",
    " SHIPS Prob RI for 65kt/ 72hr RI threshold=   0% is   0.0 times climatological mean ( 5.4%)\n",
    "    \n",
    "Matrix of RI probabilities\n",
    "------------------------------------------------------------------------------\n",
    "  RI (kt / h)  | 20/12 | 25/24 | 30/24 | 35/24 | 40/24 | 45/36 | 55/48  |65/72\n",
    "------------------------------------------------------------------------------\n",
    "   SHIPS-RII:     0.0%    0.0%    0.0%    0.0%    0.0%    0.0%    0.0%    0.0%\n",
    "    Logistic:     1.4%    1.1%    0.6%    0.1%    0.0%    0.5%    0.1%    0.0%\n",
    "    Bayesian:     0.3%    0.0%    0.0%    0.0%    0.0%    0.0%    0.0%    0.0%\n",
    "   Consensus:     0.6%    0.4%    0.2%    0.0%    0.0%    0.2%    0.0%    0.0%\n",
    "       DTOPS:   999.0%  999.0%  999.0%  999.0%  999.0%  999.0%  999.0%  999.0%\n",
    "\n",
    "   ##         ANNULAR HURRICANE INDEX (AHI) AL022019 BARRY      07/16/19  06 UTC         ##\n",
    "   ## STORM NOT ANNULAR, SCREENING STEP FAILED, NPASS=4 NFAIL=3                          ##\n",
    "   ## AHI=  0   (AHI OF 100 IS BEST FIT TO ANN. STRUC., 1 IS MARGINAL, 0 IS NOT ANNULAR) ##\n",
    "\n",
    "** PROBLTY OF AT LEAST 1 SCNDRY EYEWL FORMTN EVENT AL022019 BARRY      07/16/2019  06 UTC **\n",
    "TIME(HR)   0-12  12-24(0-24)  24-36(0-36)  36-48(0-48)\n",
    "CLIMO(%)     0      0(  0)       0(  0)       0(  0)     <-- PROB BASED ON INTENSITY ONLY\n",
    "PROB(%)      0      0(  0)       0(  0)       0(  0)     <-- FULL MODEL PROB (RAN NORMALLY)\n",
    "\n",
    "** DSHIPS INTENSITY FORECAST ADJUSTED RELATIVE TO ONSET OF ERC WEAKENING PHASE **\n",
    "      TIME (HR)      0     6    12    18    24    36    48    60    72    84    96   108   120\n",
    ">24HR AGO (DSHIPS) DIS   DIS   DIS   DIS   DIS   DIS   DIS   DIS   DIS   DIS   DIS   DIS   DIS\n",
    " 18HR AGO          DIS   DIS   DIS   DIS   DIS   DIS   DIS   DIS   DIS   DIS   DIS   DIS   DIS\n",
    " 12HR AGO          DIS   DIS   DIS   DIS   DIS   DIS   DIS   DIS   DIS   DIS   DIS   DIS   DIS\n",
    "  6HR AGO          DIS   DIS   DIS   DIS   DIS   DIS   DIS   DIS   DIS   DIS   DIS   DIS   DIS\n",
    "      NOW                              CURRENT INTENSITY < 83 KT\n",
    "  IN  6HR                              INTENSITY IN  6HR < 83 KT\n",
    "  IN 12HR                              INTENSITY IN 12HR < 83 KT"
   ]
  },
  {
   "cell_type": "markdown",
   "id": "464c9370-358e-4775-b22d-56d5d51c6aaa",
   "metadata": {},
   "source": [
    "# Key bits of code (could learn to extend it)"
   ]
  },
  {
   "cell_type": "code",
   "execution_count": null,
   "id": "aceb456e-a0f5-4a58-879f-6c3fd0edd642",
   "metadata": {},
   "outputs": [],
   "source": [
    "       if (data):\n",
    "            data = data.splitlines()\n",
    "\n",
    "            idx = 2\n",
    "            while (idx < 14):\n",
    "                line = data[idx].split(' ')\n",
    "                line = [val for val in line if val != '']\n",
    "\n",
    "                if (idx == 2):\n",
    "                    if (storm_name in line):\n",
    "                        data_dict['datetime'] = datetime\n",
    "                    else:\n",
    "                        print(\"Error: Storm names do not match (ships_parse.fetch_files)\")\n",
    "                        sys.exit(0)\n",
    "                elif (idx == 10):\n",
    "                    if (hour_diff == 0):\n",
    "                        data_dict['shear_spd'] = line[2]\n",
    "                    else:\n",
    "                        data_dict['shear_spd'] = line[3]\n",
    "                elif (idx == 12):\n",
    "                    if (hour_diff == 0):\n",
    "                        data_dict['shear_dir'] = line[2]\n",
    "                    else:\n",
    "                        data_dict['shear_dir'] = line[3]\n",
    "                elif (idx == 13):\n",
    "                    if (hour_diff == 0):\n",
    "                        data_dict['sst'] = line[2]\n",
    "                    else:\n",
    "                        data_dict['sst'] = line[3]\n",
    "                idx += 1\n",
    "        else:\n",
    "            print(\"Error retrieving SHIPS file data (ships_parse.fetch_files)\")\n",
    "            sys.exit(0)\n"
   ]
  }
 ],
 "metadata": {
  "kernelspec": {
   "display_name": "Python 3 (ipykernel)",
   "language": "python",
   "name": "python3"
  },
  "language_info": {
   "codemirror_mode": {
    "name": "ipython",
    "version": 3
   },
   "file_extension": ".py",
   "mimetype": "text/x-python",
   "name": "python",
   "nbconvert_exporter": "python",
   "pygments_lexer": "ipython3",
   "version": "3.10.2"
  }
 },
 "nbformat": 4,
 "nbformat_minor": 5
}
