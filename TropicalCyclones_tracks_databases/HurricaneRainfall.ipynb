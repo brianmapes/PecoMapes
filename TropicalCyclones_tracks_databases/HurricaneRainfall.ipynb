{
 "cells": [
  {
   "cell_type": "code",
   "execution_count": null,
   "id": "peaceful-commission",
   "metadata": {},
   "outputs": [],
   "source": [
    "#First, we import Tropycal and its key components: \"tracks\", \"tornado\", and \"recon\"\n",
    "from tropycal import tracks, tornado, recon, rain\n",
    "\n",
    "#We then import \"numpy\" for mathematical calculations, and \"datetime\" for date and time functionality\n",
    "import numpy as np\n",
    "from datetime import datetime as dt,timedelta\n",
    "\n",
    "#Code to ignore warning when reading in data \n",
    "import warnings\n",
    "warnings.filterwarnings('ignore')"
   ]
  },
  {
   "cell_type": "code",
   "execution_count": null,
   "id": "adapted-attendance",
   "metadata": {},
   "outputs": [],
   "source": [
    "import datetime  \n",
    "import xarray as xr\n",
    "import pandas "
   ]
  },
  {
   "cell_type": "code",
   "execution_count": null,
   "id": "early-joshua",
   "metadata": {},
   "outputs": [],
   "source": [
    "atlantic_basin = tracks.TrackDataset('north_atlantic',include_btk=True)"
   ]
  },
  {
   "cell_type": "code",
   "execution_count": null,
   "id": "dietary-enemy",
   "metadata": {},
   "outputs": [],
   "source": [
    "Atlantic_2005 = atlantic_basin.get_season(2005)\n",
    "\n",
    "print(Atlantic_2005)"
   ]
  },
  {
   "cell_type": "code",
   "execution_count": null,
   "id": "mysterious-maker",
   "metadata": {},
   "outputs": [],
   "source": [
    "#Looking more into Hurricane Wilma \n",
    "#This function gives a summary of a specific hurricane \n",
    "\n",
    "Hurricane_Wilma = atlantic_basin.get_storm(('Wilma', 2005))\n",
    "print(Hurricane_Wilma)"
   ]
  },
  {
   "cell_type": "code",
   "execution_count": null,
   "id": "legitimate-guidance",
   "metadata": {},
   "outputs": [],
   "source": [
    "Atlantic_2005.to_dataframe()"
   ]
  },
  {
   "cell_type": "code",
   "execution_count": null,
   "id": "statutory-nomination",
   "metadata": {},
   "outputs": [],
   "source": [
    "#Gives the 6-hour data values for lat/lon, wind speed, and pressure \n",
    "\n",
    "Hurricane_Wilma.to_dataframe()"
   ]
  },
  {
   "cell_type": "code",
   "execution_count": null,
   "id": "racial-silver",
   "metadata": {},
   "outputs": [],
   "source": [
    "df = Hurricane_Wilma.to_dataframe()\n",
    "df['date'][0]"
   ]
  }
 ],
 "metadata": {
  "kernelspec": {
   "display_name": "Python 3",
   "language": "python",
   "name": "python3"
  },
  "language_info": {
   "codemirror_mode": {
    "name": "ipython",
    "version": 3
   },
   "file_extension": ".py",
   "mimetype": "text/x-python",
   "name": "python",
   "nbconvert_exporter": "python",
   "pygments_lexer": "ipython3",
   "version": "3.8.5"
  }
 },
 "nbformat": 4,
 "nbformat_minor": 5
}
